{
 "cells": [
  {
   "cell_type": "markdown",
   "metadata": {},
   "source": [
    "## 15 - Upper Air Data with Siphon\n",
    "\n",
    "Watch video: [YouTube](https://www.youtube.com/watch?v=OUTBiXEuDIU)"
   ]
  },
  {
   "cell_type": "markdown",
   "source": [
    "WyomingUpperAir is also known as Wyoming sounding data, it is the easiest way to get the upper air data. It contains the basic variables, including temperature, dewpoint, relative humidity, wind speed, etc. The data is available from [here](https://weather.uwyo.edu/upperair/sounding.html)."
   ],
   "metadata": {
    "collapsed": false
   }
  },
  {
   "cell_type": "code",
   "execution_count": 1,
   "metadata": {
    "ExecuteTime": {
     "end_time": "2024-03-11T06:12:01.349633Z",
     "start_time": "2024-03-11T06:11:58.409402Z"
    }
   },
   "outputs": [],
   "source": [
    "import datetime\n",
    "from metpy.units import units, pandas_dataframe_to_unit_arrays\n",
    "from siphon.simplewebservice.wyoming import WyomingUpperAir\n",
    "units.default_format = '.2f'"
   ]
  },
  {
   "cell_type": "code",
   "execution_count": 2,
   "metadata": {
    "ExecuteTime": {
     "end_time": "2024-03-11T06:12:04.434283Z",
     "start_time": "2024-03-11T06:12:02.205605Z"
    }
   },
   "outputs": [
    {
     "data": {
      "text/plain": "   pressure  height  temperature  dewpoint  direction  speed     u_wind  \\\n0     999.0     178         24.4      13.4        0.0    0.0  -0.000000   \n1     997.0     195         24.2      10.2        2.0    1.0  -0.034899   \n2     956.0     559         21.6       8.6       48.0   18.0 -13.376607   \n3     950.3     610         21.1       8.4       55.0   20.0 -16.383041   \n4     925.0     841         18.8       7.8       55.0   21.0 -17.202193   \n\n      v_wind station  station_number       time  latitude  longitude  \\\n0  -0.000000     BMX           72230 2017-09-10     33.16     -86.76   \n1  -0.999391     BMX           72230 2017-09-10     33.16     -86.76   \n2 -12.044351     BMX           72230 2017-09-10     33.16     -86.76   \n3 -11.471529     BMX           72230 2017-09-10     33.16     -86.76   \n4 -12.045105     BMX           72230 2017-09-10     33.16     -86.76   \n\n   elevation     pw  \n0      178.0  19.23  \n1      178.0  19.23  \n2      178.0  19.23  \n3      178.0  19.23  \n4      178.0  19.23  ",
      "text/html": "<div>\n<style scoped>\n    .dataframe tbody tr th:only-of-type {\n        vertical-align: middle;\n    }\n\n    .dataframe tbody tr th {\n        vertical-align: top;\n    }\n\n    .dataframe thead th {\n        text-align: right;\n    }\n</style>\n<table border=\"1\" class=\"dataframe\">\n  <thead>\n    <tr style=\"text-align: right;\">\n      <th></th>\n      <th>pressure</th>\n      <th>height</th>\n      <th>temperature</th>\n      <th>dewpoint</th>\n      <th>direction</th>\n      <th>speed</th>\n      <th>u_wind</th>\n      <th>v_wind</th>\n      <th>station</th>\n      <th>station_number</th>\n      <th>time</th>\n      <th>latitude</th>\n      <th>longitude</th>\n      <th>elevation</th>\n      <th>pw</th>\n    </tr>\n  </thead>\n  <tbody>\n    <tr>\n      <th>0</th>\n      <td>999.0</td>\n      <td>178</td>\n      <td>24.4</td>\n      <td>13.4</td>\n      <td>0.0</td>\n      <td>0.0</td>\n      <td>-0.000000</td>\n      <td>-0.000000</td>\n      <td>BMX</td>\n      <td>72230</td>\n      <td>2017-09-10</td>\n      <td>33.16</td>\n      <td>-86.76</td>\n      <td>178.0</td>\n      <td>19.23</td>\n    </tr>\n    <tr>\n      <th>1</th>\n      <td>997.0</td>\n      <td>195</td>\n      <td>24.2</td>\n      <td>10.2</td>\n      <td>2.0</td>\n      <td>1.0</td>\n      <td>-0.034899</td>\n      <td>-0.999391</td>\n      <td>BMX</td>\n      <td>72230</td>\n      <td>2017-09-10</td>\n      <td>33.16</td>\n      <td>-86.76</td>\n      <td>178.0</td>\n      <td>19.23</td>\n    </tr>\n    <tr>\n      <th>2</th>\n      <td>956.0</td>\n      <td>559</td>\n      <td>21.6</td>\n      <td>8.6</td>\n      <td>48.0</td>\n      <td>18.0</td>\n      <td>-13.376607</td>\n      <td>-12.044351</td>\n      <td>BMX</td>\n      <td>72230</td>\n      <td>2017-09-10</td>\n      <td>33.16</td>\n      <td>-86.76</td>\n      <td>178.0</td>\n      <td>19.23</td>\n    </tr>\n    <tr>\n      <th>3</th>\n      <td>950.3</td>\n      <td>610</td>\n      <td>21.1</td>\n      <td>8.4</td>\n      <td>55.0</td>\n      <td>20.0</td>\n      <td>-16.383041</td>\n      <td>-11.471529</td>\n      <td>BMX</td>\n      <td>72230</td>\n      <td>2017-09-10</td>\n      <td>33.16</td>\n      <td>-86.76</td>\n      <td>178.0</td>\n      <td>19.23</td>\n    </tr>\n    <tr>\n      <th>4</th>\n      <td>925.0</td>\n      <td>841</td>\n      <td>18.8</td>\n      <td>7.8</td>\n      <td>55.0</td>\n      <td>21.0</td>\n      <td>-17.202193</td>\n      <td>-12.045105</td>\n      <td>BMX</td>\n      <td>72230</td>\n      <td>2017-09-10</td>\n      <td>33.16</td>\n      <td>-86.76</td>\n      <td>178.0</td>\n      <td>19.23</td>\n    </tr>\n  </tbody>\n</table>\n</div>"
     },
     "execution_count": 2,
     "metadata": {},
     "output_type": "execute_result"
    }
   ],
   "source": [
    "date = datetime.datetime(2017, 9, 10)\n",
    "df = WyomingUpperAir.request_data(date, 'BMX')\n",
    "df.head()"
   ]
  },
  {
   "cell_type": "code",
   "execution_count": 3,
   "metadata": {
    "ExecuteTime": {
     "end_time": "2024-03-11T06:12:05.791709Z",
     "start_time": "2024-03-11T06:12:05.787613Z"
    }
   },
   "outputs": [
    {
     "name": "stdout",
     "output_type": "stream",
     "text": [
      "{'pressure': 'hPa', 'height': 'meter', 'temperature': 'degC', 'dewpoint': 'degC', 'direction': 'degrees', 'speed': 'knot', 'u_wind': 'knot', 'v_wind': 'knot', 'station': None, 'station_number': None, 'time': None, 'latitude': 'degrees', 'longitude': 'degrees', 'elevation': 'meter', 'pw': 'millimeter'}\n"
     ]
    }
   ],
   "source": [
    "print(df.units)"
   ]
  },
  {
   "cell_type": "code",
   "execution_count": 4,
   "metadata": {
    "ExecuteTime": {
     "end_time": "2024-03-11T06:12:07.387668Z",
     "start_time": "2024-03-11T06:12:07.383701Z"
    }
   },
   "outputs": [
    {
     "name": "stdout",
     "output_type": "stream",
     "text": [
      "degC\n"
     ]
    }
   ],
   "source": [
    "print(df.units['dewpoint'])"
   ]
  },
  {
   "cell_type": "code",
   "outputs": [],
   "source": [
    "df = pandas_dataframe_to_unit_arrays(df)"
   ],
   "metadata": {
    "collapsed": false,
    "ExecuteTime": {
     "end_time": "2024-03-11T06:12:08.403174Z",
     "start_time": "2024-03-11T06:12:08.397623Z"
    }
   },
   "execution_count": 5
  },
  {
   "cell_type": "code",
   "execution_count": 6,
   "metadata": {
    "ExecuteTime": {
     "end_time": "2024-03-11T06:12:09.433145Z",
     "start_time": "2024-03-11T06:12:09.428436Z"
    }
   },
   "outputs": [],
   "source": [
    "p = df['pressure']\n",
    "T = df['temperature']\n",
    "Td = df['dewpoint']\n",
    "u = df['u_wind']\n",
    "v = df['v_wind']"
   ]
  },
  {
   "cell_type": "code",
   "execution_count": 7,
   "metadata": {
    "ExecuteTime": {
     "end_time": "2024-03-11T06:12:10.232671Z",
     "start_time": "2024-03-11T06:12:10.227263Z"
    }
   },
   "outputs": [
    {
     "name": "stdout",
     "output_type": "stream",
     "text": [
      "[999.00 997.00 956.00 950.30 925.00 917.10 884.70 850.00 849.00 822.80] hectopascal\n"
     ]
    }
   ],
   "source": [
    "print(p[:10])"
   ]
  }
 ],
 "metadata": {
  "kernelspec": {
   "display_name": "Python 3.9.12 ('base')",
   "language": "python",
   "name": "python3"
  },
  "language_info": {
   "codemirror_mode": {
    "name": "ipython",
    "version": 3
   },
   "file_extension": ".py",
   "mimetype": "text/x-python",
   "name": "python",
   "nbconvert_exporter": "python",
   "pygments_lexer": "ipython3",
   "version": "3.9.12"
  },
  "orig_nbformat": 4,
  "vscode": {
   "interpreter": {
    "hash": "b5cfa023891fceef02537f80a4c6e95b77988fb973cdb16a51cdb785092210be"
   }
  }
 },
 "nbformat": 4,
 "nbformat_minor": 2
}
