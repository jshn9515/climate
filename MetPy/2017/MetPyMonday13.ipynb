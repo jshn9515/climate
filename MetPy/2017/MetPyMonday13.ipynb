{
 "cells": [
  {
   "cell_type": "markdown",
   "metadata": {},
   "source": [
    "## 13 - Temperature Units\n",
    "\n",
    "Watch video: [YouTube](https://www.youtube.com/watch?v=iveJCqxe3Z4)"
   ]
  },
  {
   "cell_type": "code",
   "execution_count": 1,
   "metadata": {
    "ExecuteTime": {
     "end_time": "2024-02-10T09:19:51.042472Z",
     "start_time": "2024-02-10T09:19:49.211075Z"
    }
   },
   "outputs": [],
   "source": [
    "from metpy.units import units\n",
    "units.default_format = '.2f'"
   ]
  },
  {
   "cell_type": "markdown",
   "source": [
    "In physics, the Celsius scale is a relative temperature unit defined based on the freezing and boiling points of water. A degree Celsius represents a temperature difference rather than an absolute temperature value. This is why adding two temperature values in degrees Celsius may be ambiguous in a physical sense.\n",
    "\n",
    "Consider the following:\n",
    "- Relative Temperature: Celsius is defined relative to the freezing and boiling points of water. Therefore, the sum of two temperature values does not have a direct physical meaning, as they only represent the difference between two relative temperatures.\n",
    "- Lack of Absolute Zero: Celsius lacks an absolute zero point, meaning zero degrees Celsius does not represent absolute zero (zero heat). In an absolute temperature scale like Kelvin, zero is absolute zero, representing the complete absence of heat. In Celsius, zero degrees is just the freezing point of water, not a state with no heat.\n",
    "\n",
    "Due to these reasons, the addition of Celsius temperatures lacks a clear physical interpretation. For example, adding 20 degrees Celsius to 30 degrees Celsius to get 50 degrees Celsius does not represent a quantifiable temperature value in a physical sense.\n",
    "\n",
    "The MetPy's `unit` registry sets `autoconvert_offset_to_baseunit` to True, which is a feature inherited from `pint`, means that when you multiply or divide two temperature values, the offset is automatically convert to base unit before the calculation is performed.\n",
    "\n",
    "You can use `print()` function to format the output."
   ],
   "metadata": {
    "collapsed": false
   }
  },
  {
   "cell_type": "code",
   "outputs": [],
   "source": [
    "a = 25 * units.km\n",
    "b = 5 * units.miles  # or units('miles'), but I don't like that"
   ],
   "metadata": {
    "ExecuteTime": {
     "end_time": "2024-02-10T09:19:51.053494300Z",
     "start_time": "2024-02-10T09:19:51.044625500Z"
    }
   },
   "execution_count": 2
  },
  {
   "cell_type": "code",
   "outputs": [
    {
     "name": "stdout",
     "output_type": "stream",
     "text": [
      "16.95 kilometer\n"
     ]
    }
   ],
   "source": [
    "print(a - b)"
   ],
   "metadata": {
    "ExecuteTime": {
     "end_time": "2024-02-10T09:19:51.068774900Z",
     "start_time": "2024-02-10T09:19:51.052547800Z"
    }
   },
   "execution_count": 3
  },
  {
   "cell_type": "code",
   "outputs": [],
   "source": [
    "c = 25 * units.degC\n",
    "d = 5 * units.degC"
   ],
   "metadata": {
    "ExecuteTime": {
     "end_time": "2024-02-10T09:19:51.078487300Z",
     "start_time": "2024-02-10T09:19:51.066632200Z"
    }
   },
   "execution_count": 4
  },
  {
   "cell_type": "code",
   "outputs": [
    {
     "name": "stdout",
     "output_type": "stream",
     "text": [
      "82930.42 kelvin ** 2\n"
     ]
    }
   ],
   "source": [
    "print(c * d)  # automatically converted to base unit (Kelvin)"
   ],
   "metadata": {
    "ExecuteTime": {
     "end_time": "2024-02-10T09:19:51.116697700Z",
     "start_time": "2024-02-10T09:19:51.079550300Z"
    }
   },
   "execution_count": 5
  },
  {
   "cell_type": "code",
   "outputs": [
    {
     "name": "stdout",
     "output_type": "stream",
     "text": [
      "1.07 dimensionless\n"
     ]
    }
   ],
   "source": [
    "print(c / d)"
   ],
   "metadata": {
    "ExecuteTime": {
     "end_time": "2024-02-10T09:19:51.129285800Z",
     "start_time": "2024-02-10T09:19:51.090347500Z"
    }
   },
   "execution_count": 6
  },
  {
   "cell_type": "code",
   "outputs": [
    {
     "name": "stdout",
     "output_type": "stream",
     "text": [
      "278.15 kelvin\n"
     ]
    }
   ],
   "source": [
    "print(c * d / c)"
   ],
   "metadata": {
    "ExecuteTime": {
     "end_time": "2024-02-10T09:19:51.141519700Z",
     "start_time": "2024-02-10T09:19:51.124702300Z"
    }
   },
   "execution_count": 7
  },
  {
   "cell_type": "code",
   "execution_count": 13,
   "metadata": {
    "ExecuteTime": {
     "end_time": "2024-02-10T09:20:04.950366100Z",
     "start_time": "2024-02-10T09:20:04.873389100Z"
    }
   },
   "outputs": [
    {
     "ename": "OffsetUnitCalculusError",
     "evalue": "Ambiguous operation with offset unit (degree_Celsius, degree_Celsius). See https://pint.readthedocs.io/en/stable/user/nonmult.html for guidance.",
     "output_type": "error",
     "traceback": [
      "\u001B[1;31m---------------------------------------------------------------------------\u001B[0m",
      "\u001B[1;31mOffsetUnitCalculusError\u001B[0m                   Traceback (most recent call last)",
      "Cell \u001B[1;32mIn[13], line 1\u001B[0m\n\u001B[1;32m----> 1\u001B[0m \u001B[38;5;28mprint\u001B[39m(\u001B[43mc\u001B[49m\u001B[43m \u001B[49m\u001B[38;5;241;43m+\u001B[39;49m\u001B[43m \u001B[49m\u001B[43md\u001B[49m)\n",
      "File \u001B[1;32m~\\miniconda3\\envs\\climate\\Lib\\site-packages\\pint\\facets\\plain\\quantity.py:841\u001B[0m, in \u001B[0;36mPlainQuantity.__add__\u001B[1;34m(self, other)\u001B[0m\n\u001B[0;32m    838\u001B[0m \u001B[38;5;28;01mif\u001B[39;00m \u001B[38;5;28misinstance\u001B[39m(other, datetime\u001B[38;5;241m.\u001B[39mdatetime):\n\u001B[0;32m    839\u001B[0m     \u001B[38;5;28;01mreturn\u001B[39;00m \u001B[38;5;28mself\u001B[39m\u001B[38;5;241m.\u001B[39mto_timedelta() \u001B[38;5;241m+\u001B[39m other\n\u001B[1;32m--> 841\u001B[0m \u001B[38;5;28;01mreturn\u001B[39;00m \u001B[38;5;28;43mself\u001B[39;49m\u001B[38;5;241;43m.\u001B[39;49m\u001B[43m_add_sub\u001B[49m\u001B[43m(\u001B[49m\u001B[43mother\u001B[49m\u001B[43m,\u001B[49m\u001B[43m \u001B[49m\u001B[43moperator\u001B[49m\u001B[38;5;241;43m.\u001B[39;49m\u001B[43madd\u001B[49m\u001B[43m)\u001B[49m\n",
      "File \u001B[1;32m~\\miniconda3\\envs\\climate\\Lib\\site-packages\\pint\\facets\\plain\\quantity.py:103\u001B[0m, in \u001B[0;36mcheck_implemented.<locals>.wrapped\u001B[1;34m(self, *args, **kwargs)\u001B[0m\n\u001B[0;32m    101\u001B[0m \u001B[38;5;28;01melif\u001B[39;00m \u001B[38;5;28misinstance\u001B[39m(other, \u001B[38;5;28mlist\u001B[39m) \u001B[38;5;129;01mand\u001B[39;00m other \u001B[38;5;129;01mand\u001B[39;00m \u001B[38;5;28misinstance\u001B[39m(other[\u001B[38;5;241m0\u001B[39m], \u001B[38;5;28mtype\u001B[39m(\u001B[38;5;28mself\u001B[39m)):\n\u001B[0;32m    102\u001B[0m     \u001B[38;5;28;01mreturn\u001B[39;00m \u001B[38;5;28mNotImplemented\u001B[39m\n\u001B[1;32m--> 103\u001B[0m \u001B[38;5;28;01mreturn\u001B[39;00m \u001B[43mf\u001B[49m\u001B[43m(\u001B[49m\u001B[38;5;28;43mself\u001B[39;49m\u001B[43m,\u001B[49m\u001B[43m \u001B[49m\u001B[38;5;241;43m*\u001B[39;49m\u001B[43margs\u001B[49m\u001B[43m,\u001B[49m\u001B[43m \u001B[49m\u001B[38;5;241;43m*\u001B[39;49m\u001B[38;5;241;43m*\u001B[39;49m\u001B[43mkwargs\u001B[49m\u001B[43m)\u001B[49m\n",
      "File \u001B[1;32m~\\miniconda3\\envs\\climate\\Lib\\site-packages\\pint\\facets\\plain\\quantity.py:817\u001B[0m, in \u001B[0;36mPlainQuantity._add_sub\u001B[1;34m(self, other, op)\u001B[0m\n\u001B[0;32m    815\u001B[0m     units \u001B[38;5;241m=\u001B[39m other\u001B[38;5;241m.\u001B[39m_units\n\u001B[0;32m    816\u001B[0m \u001B[38;5;28;01melse\u001B[39;00m:\n\u001B[1;32m--> 817\u001B[0m     \u001B[38;5;28;01mraise\u001B[39;00m OffsetUnitCalculusError(\u001B[38;5;28mself\u001B[39m\u001B[38;5;241m.\u001B[39m_units, other\u001B[38;5;241m.\u001B[39m_units)\n\u001B[0;32m    819\u001B[0m \u001B[38;5;28;01mreturn\u001B[39;00m \u001B[38;5;28mself\u001B[39m\u001B[38;5;241m.\u001B[39m\u001B[38;5;18m__class__\u001B[39m(magnitude, units)\n",
      "\u001B[1;31mOffsetUnitCalculusError\u001B[0m: Ambiguous operation with offset unit (degree_Celsius, degree_Celsius). See https://pint.readthedocs.io/en/stable/user/nonmult.html for guidance."
     ]
    }
   ],
   "source": [
    "print(c + d)  # this will cause the error"
   ]
  },
  {
   "cell_type": "code",
   "execution_count": 9,
   "metadata": {
    "ExecuteTime": {
     "end_time": "2024-02-10T09:19:58.109315400Z",
     "start_time": "2024-02-10T09:19:58.106376600Z"
    }
   },
   "outputs": [
    {
     "name": "stdout",
     "output_type": "stream",
     "text": [
      "20.00 delta_degree_Celsius\n"
     ]
    }
   ],
   "source": [
    "print(c - d)"
   ]
  },
  {
   "cell_type": "code",
   "execution_count": 10,
   "metadata": {
    "ExecuteTime": {
     "end_time": "2024-02-10T09:19:58.766747500Z",
     "start_time": "2024-02-10T09:19:58.760871Z"
    }
   },
   "outputs": [
    {
     "name": "stdout",
     "output_type": "stream",
     "text": [
      "20.00 kelvin\n"
     ]
    }
   ],
   "source": [
    "print(c.to('kelvin') - d.to('kelvin'))"
   ]
  },
  {
   "cell_type": "code",
   "execution_count": 11,
   "metadata": {
    "ExecuteTime": {
     "end_time": "2024-02-10T09:19:59.235941200Z",
     "start_time": "2024-02-10T09:19:59.232024900Z"
    }
   },
   "outputs": [
    {
     "name": "stdout",
     "output_type": "stream",
     "text": [
      "5.00 degree_Celsius\n"
     ]
    }
   ],
   "source": [
    "print(c - 20 * units.delta_degC)"
   ]
  },
  {
   "cell_type": "code",
   "execution_count": 12,
   "metadata": {
    "ExecuteTime": {
     "end_time": "2024-02-10T09:19:59.596513300Z",
     "start_time": "2024-02-10T09:19:59.583566300Z"
    }
   },
   "outputs": [
    {
     "name": "stdout",
     "output_type": "stream",
     "text": [
      "36.11 degree_Celsius\n"
     ]
    }
   ],
   "source": [
    "print(c + 20 * units.delta_degF)"
   ]
  }
 ],
 "metadata": {
  "kernelspec": {
   "display_name": "Python 3.9.12 ('base')",
   "language": "python",
   "name": "python3"
  },
  "language_info": {
   "codemirror_mode": {
    "name": "ipython",
    "version": 3
   },
   "file_extension": ".py",
   "mimetype": "text/x-python",
   "name": "python",
   "nbconvert_exporter": "python",
   "pygments_lexer": "ipython3",
   "version": "3.9.12"
  },
  "orig_nbformat": 4,
  "vscode": {
   "interpreter": {
    "hash": "b5cfa023891fceef02537f80a4c6e95b77988fb973cdb16a51cdb785092210be"
   }
  }
 },
 "nbformat": 4,
 "nbformat_minor": 2
}
