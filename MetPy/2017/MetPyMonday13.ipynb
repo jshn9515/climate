{
 "cells": [
  {
   "cell_type": "markdown",
   "metadata": {},
   "source": [
    "## 13 - Temperature Units\n",
    "\n",
    "Watch video: [YouTube](https://www.youtube.com/watch?v=iveJCqxe3Z4)"
   ]
  },
  {
   "cell_type": "code",
   "execution_count": 1,
   "metadata": {
    "ExecuteTime": {
     "end_time": "2024-02-10T09:19:51.042472Z",
     "start_time": "2024-02-10T09:19:49.211075Z"
    }
   },
   "outputs": [],
   "source": [
    "from metpy.units import units\n",
    "\n",
    "# set the output digit number to 2.\n",
    "units.default_format = '.2f'"
   ]
  },
  {
   "cell_type": "markdown",
   "metadata": {
    "collapsed": false,
    "jupyter": {
     "outputs_hidden": false
    }
   },
   "source": [
    "In physics, the Celsius scale is a relative temperature unit defined based on the freezing and boiling points of water. A Celsius degree represents a temperature difference rather than an absolute temperature value. This is why adding two temperature values in degrees Celsius may be ambiguous in a physical sense.\n",
    "\n",
    "Due to these reasons, the addition of Celsius temperatures lacks a clear physical interpretation. For example, adding 20 degrees Celsius to 30 degrees Celsius to get 50 degrees Celsius does not represent a quantifiable temperature value in a physical sense."
   ]
  },
  {
   "cell_type": "markdown",
   "metadata": {
    "collapsed": false,
    "jupyter": {
     "outputs_hidden": false
    }
   },
   "source": [
    "The MetPy's `units` registry sets `autoconvert_offset_to_baseunit` to True, which is a feature inherited from `pint`, means that when you multiply or divide two temperature values, the offset is automatically convert to base unit before the calculation is performed.\n",
    "\n",
    "You can use `print()` function to format the output."
   ]
  },
  {
   "cell_type": "code",
   "execution_count": 3,
   "metadata": {
    "ExecuteTime": {
     "end_time": "2024-02-10T09:19:51.053494300Z",
     "start_time": "2024-02-10T09:19:51.044625500Z"
    }
   },
   "outputs": [],
   "source": [
    "a = 25 * units.km\n",
    "b = 5 * units.miles  # or units('miles'), but I don't like that"
   ]
  },
  {
   "cell_type": "code",
   "execution_count": 4,
   "metadata": {
    "ExecuteTime": {
     "end_time": "2024-02-10T09:19:51.068774900Z",
     "start_time": "2024-02-10T09:19:51.052547800Z"
    }
   },
   "outputs": [
    {
     "name": "stdout",
     "output_type": "stream",
     "text": [
      "16.95 kilometer\n"
     ]
    }
   ],
   "source": [
    "print(a - b)"
   ]
  },
  {
   "cell_type": "code",
   "execution_count": 5,
   "metadata": {
    "ExecuteTime": {
     "end_time": "2024-02-10T09:19:51.078487300Z",
     "start_time": "2024-02-10T09:19:51.066632200Z"
    }
   },
   "outputs": [],
   "source": [
    "c = 25 * units.degC\n",
    "d = 5 * units.degC"
   ]
  },
  {
   "cell_type": "code",
   "execution_count": 6,
   "metadata": {
    "ExecuteTime": {
     "end_time": "2024-02-10T09:19:51.116697700Z",
     "start_time": "2024-02-10T09:19:51.079550300Z"
    }
   },
   "outputs": [
    {
     "name": "stdout",
     "output_type": "stream",
     "text": [
      "82930.42 kelvin ** 2\n"
     ]
    }
   ],
   "source": [
    "print(c * d)  # automatically converted to base unit (Kelvin)"
   ]
  },
  {
   "cell_type": "code",
   "execution_count": 7,
   "metadata": {
    "ExecuteTime": {
     "end_time": "2024-02-10T09:19:51.129285800Z",
     "start_time": "2024-02-10T09:19:51.090347500Z"
    }
   },
   "outputs": [
    {
     "name": "stdout",
     "output_type": "stream",
     "text": [
      "1.07 dimensionless\n"
     ]
    }
   ],
   "source": [
    "print(c / d)"
   ]
  },
  {
   "cell_type": "code",
   "execution_count": 8,
   "metadata": {
    "ExecuteTime": {
     "end_time": "2024-02-10T09:19:51.141519700Z",
     "start_time": "2024-02-10T09:19:51.124702300Z"
    }
   },
   "outputs": [
    {
     "name": "stdout",
     "output_type": "stream",
     "text": [
      "278.15 kelvin\n"
     ]
    }
   ],
   "source": [
    "print(c * d / c)"
   ]
  },
  {
   "cell_type": "code",
   "execution_count": 19,
   "metadata": {
    "ExecuteTime": {
     "end_time": "2024-02-10T09:20:04.950366100Z",
     "start_time": "2024-02-10T09:20:04.873389100Z"
    },
    "scrolled": true
   },
   "outputs": [
    {
     "ename": "OffsetUnitCalculusError",
     "evalue": "Ambiguous operation with offset unit (degree_Celsius, degree_Celsius). See https://pint.readthedocs.io/en/stable/user/nonmult.html for guidance.",
     "output_type": "error",
     "traceback": [
      "\u001b[1;31m---------------------------------------------------------------------------\u001b[0m",
      "\u001b[1;31mOffsetUnitCalculusError\u001b[0m                   Traceback (most recent call last)",
      "Cell \u001b[1;32mIn[19], line 2\u001b[0m\n\u001b[0;32m      1\u001b[0m \u001b[38;5;66;03m# this will cause an error, because of the ambiguous.\u001b[39;00m\n\u001b[1;32m----> 2\u001b[0m \u001b[38;5;28mprint\u001b[39m(\u001b[43mc\u001b[49m\u001b[43m \u001b[49m\u001b[38;5;241;43m+\u001b[39;49m\u001b[43m \u001b[49m\u001b[43md\u001b[49m)\n",
      "File \u001b[1;32m~\\miniconda3\\envs\\climate\\Lib\\site-packages\\pint\\facets\\plain\\quantity.py:841\u001b[0m, in \u001b[0;36mPlainQuantity.__add__\u001b[1;34m(self, other)\u001b[0m\n\u001b[0;32m    838\u001b[0m \u001b[38;5;28;01mif\u001b[39;00m \u001b[38;5;28misinstance\u001b[39m(other, datetime\u001b[38;5;241m.\u001b[39mdatetime):\n\u001b[0;32m    839\u001b[0m     \u001b[38;5;28;01mreturn\u001b[39;00m \u001b[38;5;28mself\u001b[39m\u001b[38;5;241m.\u001b[39mto_timedelta() \u001b[38;5;241m+\u001b[39m other\n\u001b[1;32m--> 841\u001b[0m \u001b[38;5;28;01mreturn\u001b[39;00m \u001b[38;5;28;43mself\u001b[39;49m\u001b[38;5;241;43m.\u001b[39;49m\u001b[43m_add_sub\u001b[49m\u001b[43m(\u001b[49m\u001b[43mother\u001b[49m\u001b[43m,\u001b[49m\u001b[43m \u001b[49m\u001b[43moperator\u001b[49m\u001b[38;5;241;43m.\u001b[39;49m\u001b[43madd\u001b[49m\u001b[43m)\u001b[49m\n",
      "File \u001b[1;32m~\\miniconda3\\envs\\climate\\Lib\\site-packages\\pint\\facets\\plain\\quantity.py:103\u001b[0m, in \u001b[0;36mcheck_implemented.<locals>.wrapped\u001b[1;34m(self, *args, **kwargs)\u001b[0m\n\u001b[0;32m    101\u001b[0m \u001b[38;5;28;01melif\u001b[39;00m \u001b[38;5;28misinstance\u001b[39m(other, \u001b[38;5;28mlist\u001b[39m) \u001b[38;5;129;01mand\u001b[39;00m other \u001b[38;5;129;01mand\u001b[39;00m \u001b[38;5;28misinstance\u001b[39m(other[\u001b[38;5;241m0\u001b[39m], \u001b[38;5;28mtype\u001b[39m(\u001b[38;5;28mself\u001b[39m)):\n\u001b[0;32m    102\u001b[0m     \u001b[38;5;28;01mreturn\u001b[39;00m \u001b[38;5;28mNotImplemented\u001b[39m\n\u001b[1;32m--> 103\u001b[0m \u001b[38;5;28;01mreturn\u001b[39;00m \u001b[43mf\u001b[49m\u001b[43m(\u001b[49m\u001b[38;5;28;43mself\u001b[39;49m\u001b[43m,\u001b[49m\u001b[43m \u001b[49m\u001b[38;5;241;43m*\u001b[39;49m\u001b[43margs\u001b[49m\u001b[43m,\u001b[49m\u001b[43m \u001b[49m\u001b[38;5;241;43m*\u001b[39;49m\u001b[38;5;241;43m*\u001b[39;49m\u001b[43mkwargs\u001b[49m\u001b[43m)\u001b[49m\n",
      "File \u001b[1;32m~\\miniconda3\\envs\\climate\\Lib\\site-packages\\pint\\facets\\plain\\quantity.py:817\u001b[0m, in \u001b[0;36mPlainQuantity._add_sub\u001b[1;34m(self, other, op)\u001b[0m\n\u001b[0;32m    815\u001b[0m     units \u001b[38;5;241m=\u001b[39m other\u001b[38;5;241m.\u001b[39m_units\n\u001b[0;32m    816\u001b[0m \u001b[38;5;28;01melse\u001b[39;00m:\n\u001b[1;32m--> 817\u001b[0m     \u001b[38;5;28;01mraise\u001b[39;00m OffsetUnitCalculusError(\u001b[38;5;28mself\u001b[39m\u001b[38;5;241m.\u001b[39m_units, other\u001b[38;5;241m.\u001b[39m_units)\n\u001b[0;32m    819\u001b[0m \u001b[38;5;28;01mreturn\u001b[39;00m \u001b[38;5;28mself\u001b[39m\u001b[38;5;241m.\u001b[39m\u001b[38;5;18m__class__\u001b[39m(magnitude, units)\n",
      "\u001b[1;31mOffsetUnitCalculusError\u001b[0m: Ambiguous operation with offset unit (degree_Celsius, degree_Celsius). See https://pint.readthedocs.io/en/stable/user/nonmult.html for guidance."
     ]
    }
   ],
   "source": [
    "# this will cause an error, because of the ambiguous.\n",
    "print(c + d)"
   ]
  },
  {
   "cell_type": "code",
   "execution_count": 15,
   "metadata": {
    "ExecuteTime": {
     "end_time": "2024-02-10T09:19:58.109315400Z",
     "start_time": "2024-02-10T09:19:58.106376600Z"
    }
   },
   "outputs": [
    {
     "name": "stdout",
     "output_type": "stream",
     "text": [
      "20.00 delta_degree_Celsius\n"
     ]
    }
   ],
   "source": [
    "print(c - d)"
   ]
  },
  {
   "cell_type": "markdown",
   "metadata": {},
   "source": [
    "You can use the `.to` method to convert a unit to other units, or you can use `.to_base_units` to convert it to the base unit. This is particularly useful when performing temperature calculations."
   ]
  },
  {
   "cell_type": "code",
   "execution_count": 16,
   "metadata": {
    "ExecuteTime": {
     "end_time": "2024-02-10T09:19:58.766747500Z",
     "start_time": "2024-02-10T09:19:58.760871Z"
    }
   },
   "outputs": [
    {
     "name": "stdout",
     "output_type": "stream",
     "text": [
      "20.00 kelvin\n"
     ]
    }
   ],
   "source": [
    "print(c.to('kelvin') - d.to('kelvin'))"
   ]
  },
  {
   "cell_type": "code",
   "execution_count": 17,
   "metadata": {
    "ExecuteTime": {
     "end_time": "2024-02-10T09:19:59.235941200Z",
     "start_time": "2024-02-10T09:19:59.232024900Z"
    }
   },
   "outputs": [
    {
     "name": "stdout",
     "output_type": "stream",
     "text": [
      "5.00 degree_Celsius\n"
     ]
    }
   ],
   "source": [
    "print(c - 20 * units.delta_degC)"
   ]
  },
  {
   "cell_type": "code",
   "execution_count": 13,
   "metadata": {
    "ExecuteTime": {
     "end_time": "2024-02-10T09:19:59.596513300Z",
     "start_time": "2024-02-10T09:19:59.583566300Z"
    }
   },
   "outputs": [
    {
     "name": "stdout",
     "output_type": "stream",
     "text": [
      "36.11 degree_Celsius\n"
     ]
    }
   ],
   "source": [
    "print(c + 20 * units.delta_degF)"
   ]
  }
 ],
 "metadata": {
  "kernelspec": {
   "display_name": "Python 3 (ipykernel)",
   "language": "python",
   "name": "python3"
  },
  "language_info": {
   "codemirror_mode": {
    "name": "ipython",
    "version": 3
   },
   "file_extension": ".py",
   "mimetype": "text/x-python",
   "name": "python",
   "nbconvert_exporter": "python",
   "pygments_lexer": "ipython3",
   "version": "3.11.8"
  },
  "vscode": {
   "interpreter": {
    "hash": "b5cfa023891fceef02537f80a4c6e95b77988fb973cdb16a51cdb785092210be"
   }
  }
 },
 "nbformat": 4,
 "nbformat_minor": 4
}
