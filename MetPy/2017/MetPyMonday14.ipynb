{
 "cells": [
  {
   "cell_type": "markdown",
   "metadata": {},
   "source": [
    "## 14 - Adding a logo and timestamp\n",
    "\n",
    "Watch video: [YouTube](https://www.youtube.com/watch?v=3sWdjJ2Rnks)"
   ]
  },
  {
   "cell_type": "code",
   "execution_count": 12,
   "metadata": {
    "ExecuteTime": {
     "end_time": "2023-12-31T04:43:29.535332300Z",
     "start_time": "2023-12-31T04:43:29.513389700Z"
    }
   },
   "outputs": [],
   "source": [
    "import datetime\n",
    "import numpy as np\n",
    "import metpy.plots as plots\n",
    "import matplotlib.pyplot as plt\n",
    "%matplotlib inline\n",
    "%config InlineBackend.figure_format = 'svg'"
   ]
  },
  {
   "cell_type": "code",
   "execution_count": 13,
   "metadata": {
    "ExecuteTime": {
     "end_time": "2023-12-31T04:43:29.544198200Z",
     "start_time": "2023-12-31T04:43:29.522603900Z"
    }
   },
   "outputs": [],
   "source": [
    "# Use the CMT time zone, which is 8 hours behind UTC.\n",
    "tz = datetime.timezone(datetime.timedelta(hours=8), name='CMT')\n",
    "time = datetime.datetime.now(tz=tz)\n",
    "x = np.arange(100)\n",
    "y = np.random.random(100)"
   ]
  },
  {
   "cell_type": "code",
   "execution_count": null,
   "metadata": {
    "ExecuteTime": {
     "end_time": "2023-12-31T04:43:29.729807Z",
     "start_time": "2023-12-31T04:43:29.542120900Z"
    }
   },
   "outputs": [],
   "source": [
    "fig = plt.figure(1)\n",
    "ax = fig.add_subplot(1, 1, 1)\n",
    "ax.scatter(x, y, color='red')\n",
    "plots.add_metpy_logo(fig, x=50, y=320)\n",
    "plots.add_unidata_logo(fig, x=380, y=50, size='large')\n",
    "plots.add_timestamp(ax, y=1.01, time=time)\n",
    "plt.show()"
   ]
  }
 ],
 "metadata": {
  "kernelspec": {
   "display_name": "Python 3 (ipykernel)",
   "language": "python",
   "name": "python3"
  },
  "language_info": {
   "codemirror_mode": {
    "name": "ipython",
    "version": 3
   },
   "file_extension": ".py",
   "mimetype": "text/x-python",
   "name": "python",
   "nbconvert_exporter": "python",
   "pygments_lexer": "ipython3",
   "version": "3.11.8"
  },
  "vscode": {
   "interpreter": {
    "hash": "b5cfa023891fceef02537f80a4c6e95b77988fb973cdb16a51cdb785092210be"
   }
  }
 },
 "nbformat": 4,
 "nbformat_minor": 4
}
