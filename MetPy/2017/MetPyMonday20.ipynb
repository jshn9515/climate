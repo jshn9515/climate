{
 "cells": [
  {
   "cell_type": "markdown",
   "metadata": {},
   "source": [
    "## 20 - Constants \n",
    "\n",
    "Watch video: [YouTube](https://www.youtube.com/watch?v=CgTSQQAk-Ic)\n",
    "\n",
    "Reference page: [Constants Page](https://unidata.github.io/MetPy/latest/api/generated/metpy.constants.html)"
   ]
  },
  {
   "cell_type": "code",
   "execution_count": 1,
   "metadata": {
    "ExecuteTime": {
     "end_time": "2024-02-10T09:22:36.911749300Z",
     "start_time": "2024-02-10T09:22:35.209620800Z"
    }
   },
   "outputs": [
    {
     "name": "stdout",
     "output_type": "stream",
     "text": [
      "9.8066 meter / second ** 2\n"
     ]
    }
   ],
   "source": [
    "import metpy.constants as mpconst\n",
    "from metpy.units import units\n",
    "units.default_format = '.4f'\n",
    "print(mpconst.g)"
   ]
  },
  {
   "cell_type": "code",
   "execution_count": 2,
   "metadata": {
    "ExecuteTime": {
     "end_time": "2024-02-10T09:22:36.916977Z",
     "start_time": "2024-02-10T09:22:36.910472200Z"
    }
   },
   "outputs": [
    {
     "name": "stdout",
     "output_type": "stream",
     "text": [
      "1360.8000 watt / meter ** 2\n"
     ]
    }
   ],
   "source": [
    "print(mpconst.earth_solar_irradiance)"
   ]
  },
  {
   "cell_type": "code",
   "execution_count": 3,
   "metadata": {
    "ExecuteTime": {
     "end_time": "2024-02-10T09:22:36.973321900Z",
     "start_time": "2024-02-10T09:22:36.914806500Z"
    }
   },
   "outputs": [
    {
     "name": "stdout",
     "output_type": "stream",
     "text": [
      "9.7611 kelvin / kilometer\n"
     ]
    }
   ],
   "source": [
    "print(mpconst.gamma_d)"
   ]
  }
 ],
 "metadata": {
  "kernelspec": {
   "display_name": "Python 3.9.12 ('base')",
   "language": "python",
   "name": "python3"
  },
  "language_info": {
   "codemirror_mode": {
    "name": "ipython",
    "version": 3
   },
   "file_extension": ".py",
   "mimetype": "text/x-python",
   "name": "python",
   "nbconvert_exporter": "python",
   "pygments_lexer": "ipython3",
   "version": "3.9.12"
  },
  "orig_nbformat": 4,
  "vscode": {
   "interpreter": {
    "hash": "b5cfa023891fceef02537f80a4c6e95b77988fb973cdb16a51cdb785092210be"
   }
  }
 },
 "nbformat": 4,
 "nbformat_minor": 2
}
