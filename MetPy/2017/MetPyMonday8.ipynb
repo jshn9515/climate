{
 "cells": [
  {
   "cell_type": "markdown",
   "metadata": {},
   "source": [
    "## 8 - Interactive Dewpoint Calculator\n",
    "\n",
    "Watch video: [YouTube](https://www.youtube.com/watch?v=EyGg0mg13NE)"
   ]
  },
  {
   "cell_type": "code",
   "execution_count": 1,
   "metadata": {
    "ExecuteTime": {
     "end_time": "2024-03-11T06:01:13.044283Z",
     "start_time": "2024-03-11T06:01:09.066036Z"
    }
   },
   "outputs": [],
   "source": [
    "import numpy as np\n",
    "import metpy.calc as mpcalc\n",
    "from metpy.units import units\n",
    "from ipywidgets import interact, FloatSlider, IntSlider"
   ]
  },
  {
   "cell_type": "markdown",
   "source": [
    "MetPy's `units` library registers the variety units from `pint`, so that we can use them in calculation.\n",
    "Basically, it has two different usage: units.\\<unit\\> or units('\\<unit\\>'). For example, units.degF or units('degF').\n",
    "Also, we can use `.to()` method to convert the unit, or use `to_base_units()` method to transform to the base unit.\n",
    "\n",
    "> Note: Remember to attach the unit before you do the calculation.\n"
   ],
   "metadata": {
    "collapsed": false
   }
  },
  {
   "cell_type": "code",
   "execution_count": 2,
   "metadata": {
    "ExecuteTime": {
     "end_time": "2024-03-11T06:02:22.269426Z",
     "start_time": "2024-03-11T06:02:22.263448Z"
    }
   },
   "outputs": [],
   "source": [
    "def calculate_dewpoint(temperature, relative_humidity):\n",
    "    \"\"\" Calculate the dewpoint given the temperature and relative humidity. \"\"\"\n",
    "    temperature = temperature * units.degF  # attach the unit here\n",
    "    relative_humidity = relative_humidity * units.percent  # similar to above\n",
    "    dewpoint = mpcalc.dewpoint_from_relative_humidity(temperature, relative_humidity)\n",
    "    dewpoint = dewpoint.to('degF')\n",
    "    return np.round(dewpoint.magnitude, 1)"
   ]
  },
  {
   "cell_type": "code",
   "execution_count": 3,
   "metadata": {
    "collapsed": false,
    "ExecuteTime": {
     "end_time": "2024-03-11T06:02:23.572099Z",
     "start_time": "2024-03-11T06:02:23.564993Z"
    }
   },
   "outputs": [],
   "source": [
    "temperature_slider = FloatSlider(min=12, max=90, step=0.5, value=65)\n",
    "relative_humidity_slider = IntSlider(min=1, max=100, value=50)"
   ]
  },
  {
   "cell_type": "code",
   "outputs": [
    {
     "data": {
      "text/plain": "interactive(children=(FloatSlider(value=65.0, description='temperature', max=90.0, min=12.0, step=0.5), IntSli…",
      "application/vnd.jupyter.widget-view+json": {
       "version_major": 2,
       "version_minor": 0,
       "model_id": "b98b91a447b143bdb9a6be75cc6033ba"
      }
     },
     "metadata": {},
     "output_type": "display_data"
    }
   ],
   "source": [
    "interact(calculate_dewpoint, temperature=temperature_slider, relative_humidity=relative_humidity_slider);"
   ],
   "metadata": {
    "ExecuteTime": {
     "end_time": "2024-03-11T06:02:30.135119Z",
     "start_time": "2024-03-11T06:02:30.121720Z"
    }
   },
   "execution_count": 5
  }
 ],
 "metadata": {
  "kernelspec": {
   "display_name": "Python 3.9.12 ('base')",
   "language": "python",
   "name": "python3"
  },
  "language_info": {
   "codemirror_mode": {
    "name": "ipython",
    "version": 3
   },
   "file_extension": ".py",
   "mimetype": "text/x-python",
   "name": "python",
   "nbconvert_exporter": "python",
   "pygments_lexer": "ipython3",
   "version": "3.9.12"
  },
  "orig_nbformat": 4,
  "vscode": {
   "interpreter": {
    "hash": "b5cfa023891fceef02537f80a4c6e95b77988fb973cdb16a51cdb785092210be"
   }
  }
 },
 "nbformat": 4,
 "nbformat_minor": 2
}
