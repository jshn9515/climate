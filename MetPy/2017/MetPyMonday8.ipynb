{
 "cells": [
  {
   "cell_type": "markdown",
   "metadata": {},
   "source": [
    "## 8 - Interactive Dewpoint Calculator\n",
    "\n",
    "Watch video: [YouTube](https://www.youtube.com/watch?v=EyGg0mg13NE)"
   ]
  },
  {
   "cell_type": "code",
   "execution_count": 3,
   "metadata": {
    "ExecuteTime": {
     "end_time": "2024-03-11T06:01:13.044283Z",
     "start_time": "2024-03-11T06:01:09.066036Z"
    }
   },
   "outputs": [],
   "source": [
    "import numpy as np\n",
    "import metpy.calc as mpcalc\n",
    "from metpy.units import units\n",
    "from ipywidgets import interact, FloatSlider, IntSlider"
   ]
  },
  {
   "cell_type": "markdown",
   "metadata": {
    "collapsed": false,
    "jupyter": {
     "outputs_hidden": false
    }
   },
   "source": [
    "The `units` library in MetPy registers a wide range of units from `pint`, enabling their use in calculations. It offers two primary usage patterns: units.<unit> or units('<unit>'). For instance, units.degF or units('degF') are both valid. Additionally, you can use the `.to()` method to convert units or use the `to_base_units()` method to transform them to the base unit.\n",
    "\n",
    "> Note: Remember to attach the unit before you do the calculation."
   ]
  },
  {
   "cell_type": "code",
   "execution_count": 4,
   "metadata": {
    "ExecuteTime": {
     "end_time": "2024-03-11T06:02:22.269426Z",
     "start_time": "2024-03-11T06:02:22.263448Z"
    }
   },
   "outputs": [],
   "source": [
    "def calculate_dewpoint(temperature, relative_humidity):\n",
    "    \"\"\" Calculate the dewpoint given the temperature and relative humidity. \"\"\"\n",
    "    temperature = temperature * units.degF  # attach the unit here\n",
    "    relative_humidity = relative_humidity * units.percent  # similar to above\n",
    "    dewpoint = mpcalc.dewpoint_from_relative_humidity(temperature, relative_humidity)\n",
    "    dewpoint = dewpoint.to('degF')\n",
    "    return np.round(dewpoint.magnitude, 1)"
   ]
  },
  {
   "cell_type": "code",
   "execution_count": 5,
   "metadata": {
    "ExecuteTime": {
     "end_time": "2024-03-11T06:02:23.572099Z",
     "start_time": "2024-03-11T06:02:23.564993Z"
    },
    "collapsed": false,
    "jupyter": {
     "outputs_hidden": false
    }
   },
   "outputs": [],
   "source": [
    "temperature_slider = FloatSlider(min=12, max=90, step=0.5, value=65)\n",
    "relative_humidity_slider = IntSlider(min=1, max=100, value=50)"
   ]
  },
  {
   "cell_type": "code",
   "execution_count": 7,
   "metadata": {
    "ExecuteTime": {
     "end_time": "2024-03-11T06:02:30.135119Z",
     "start_time": "2024-03-11T06:02:30.121720Z"
    }
   },
   "outputs": [
    {
     "data": {
      "application/vnd.jupyter.widget-view+json": {
       "model_id": "693f21ecbf6b4898ae6988fc9137918f",
       "version_major": 2,
       "version_minor": 0
      },
      "text/plain": [
       "interactive(children=(FloatSlider(value=65.0, description='temperature', max=90.0, min=12.0, step=0.5), IntSli…"
      ]
     },
     "metadata": {},
     "output_type": "display_data"
    }
   ],
   "source": [
    "interact(calculate_dewpoint, temperature=temperature_slider, relative_humidity=relative_humidity_slider);"
   ]
  }
 ],
 "metadata": {
  "kernelspec": {
   "display_name": "Python 3 (ipykernel)",
   "language": "python",
   "name": "python3"
  },
  "language_info": {
   "codemirror_mode": {
    "name": "ipython",
    "version": 3
   },
   "file_extension": ".py",
   "mimetype": "text/x-python",
   "name": "python",
   "nbconvert_exporter": "python",
   "pygments_lexer": "ipython3",
   "version": "3.11.8"
  },
  "vscode": {
   "interpreter": {
    "hash": "b5cfa023891fceef02537f80a4c6e95b77988fb973cdb16a51cdb785092210be"
   }
  }
 },
 "nbformat": 4,
 "nbformat_minor": 4
}
