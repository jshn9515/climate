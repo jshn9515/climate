{
 "cells": [
  {
   "cell_type": "markdown",
   "metadata": {},
   "source": [
    "## 22 - CAPE/CIN\n",
    "\n",
    "Watch video: [YouTube](https://www.youtube.com/watch?v=EJfsaPjQ1RU)"
   ]
  },
  {
   "cell_type": "markdown",
   "source": [
    "**Convection**: the transfer of heat by the movement of a fluid (gas or liquid) that is heated from below. In the atmosphere, this is the transfer of heat and moisture from the surface to the atmosphere by the movement of air.\n",
    "\n",
    "**CAPE** (Convective Available Potential Energy):  The amount of energy available for convection. The greater the CAPE, the greater the potential for convection. The formula for CAPE is:\n",
    "$${\\rm{CAPE}}=\\int_{z_f}^{z_n}g(\\frac{T_{v,parcel}-T_{v,env}}{T_{v,env}})dz$$\n",
    "Where $z_f$ is the height of the level of free convection (LFC), $z_n$ is the height of the equilibrium level (EL), $T_{v,parcel}$ is the virtual temperature of the specific parcel, $T_{v,env}$ is the virtual temperature of the environment (note that temperatures must be in the Kelvin scale), and $g$ is the acceleration due to gravity. \n",
    "\n",
    "**CIN** (Convective Inhibition): A numerical measure in meteorology that indicates the amount of energy that will prevent an air parcel from rising from the surface to the level of free convection. The greater the CIN, the less likely convection will occur. The formula for CIN is:\n",
    "$${\\rm{CIN}}=\\int_{z_{bottom}}^{z_{top}}g(\\frac{T_{v,parcel}-T_{v,env}}{T_{v,env}})dz$$\n",
    "The CIN energy value is an important figure on a skew-T log-P diagram and is a helpful value in evaluating the severity of a convective event. On a skew-T log-P diagram, CIN is any area between the warmer environment virtual temperature profile and the cooler parcel virtual temperature profile.\n"
   ],
   "metadata": {
    "collapsed": false
   }
  },
  {
   "cell_type": "code",
   "execution_count": 31,
   "metadata": {
    "ExecuteTime": {
     "end_time": "2024-02-10T09:39:19.067317900Z",
     "start_time": "2024-02-10T09:39:19.056186500Z"
    }
   },
   "outputs": [],
   "source": [
    "import datetime\n",
    "import metpy.calc as mpcalc\n",
    "from metpy.units import units, pandas_dataframe_to_unit_arrays\n",
    "from siphon.simplewebservice.wyoming import WyomingUpperAir"
   ]
  },
  {
   "cell_type": "code",
   "execution_count": 32,
   "metadata": {
    "ExecuteTime": {
     "end_time": "2024-02-10T09:39:21.343902900Z",
     "start_time": "2024-02-10T09:39:19.060946900Z"
    }
   },
   "outputs": [],
   "source": [
    "time = datetime.datetime(2014, 4, 14, 12, 0, 0)\n",
    "df = WyomingUpperAir.request_data(time, 'OUN')\n",
    "df = pandas_dataframe_to_unit_arrays(df)"
   ]
  },
  {
   "cell_type": "code",
   "execution_count": 33,
   "metadata": {
    "ExecuteTime": {
     "end_time": "2024-02-10T09:39:21.354531600Z",
     "start_time": "2024-02-10T09:39:21.343902900Z"
    }
   },
   "outputs": [],
   "source": [
    "p = df['pressure']\n",
    "T = df['temperature']\n",
    "Td = df['dewpoint']\n",
    "height = df['height']"
   ]
  },
  {
   "cell_type": "code",
   "execution_count": 34,
   "metadata": {
    "ExecuteTime": {
     "end_time": "2024-02-10T09:39:21.382332300Z",
     "start_time": "2024-02-10T09:39:21.351284200Z"
    }
   },
   "outputs": [
    {
     "name": "stdout",
     "output_type": "stream",
     "text": [
      "(<Quantity(14.755783, 'joule / kilogram')>, <Quantity(0, 'joule / kilogram')>)\n"
     ]
    }
   ],
   "source": [
    "print(mpcalc.surface_based_cape_cin(p, T, Td))"
   ]
  },
  {
   "cell_type": "code",
   "execution_count": 35,
   "metadata": {
    "ExecuteTime": {
     "end_time": "2024-02-10T09:39:21.427005Z",
     "start_time": "2024-02-10T09:39:21.385617600Z"
    }
   },
   "outputs": [
    {
     "name": "stdout",
     "output_type": "stream",
     "text": [
      "(<Quantity(0.526193166, 'joule / kilogram')>, <Quantity(-2.02825351, 'joule / kilogram')>)\n"
     ]
    }
   ],
   "source": [
    "print(mpcalc.most_unstable_cape_cin(p, T, Td))"
   ]
  },
  {
   "cell_type": "code",
   "execution_count": 36,
   "metadata": {
    "ExecuteTime": {
     "end_time": "2024-02-10T09:39:21.429217900Z",
     "start_time": "2024-02-10T09:39:21.409061200Z"
    }
   },
   "outputs": [
    {
     "name": "stdout",
     "output_type": "stream",
     "text": [
      "[975.0 970.0 943.4 938.0 925.0 910.0 908.1 873.8 867.0 850.0 849.0 841.0 840.7 835.0 831.0 809.3 803.0 779.4 772.0 750.5 722.6 711.0 705.0 700.0 683.0 674.0 670.3745098039216] hectopascal\n"
     ]
    }
   ],
   "source": [
    "p, T, Td = mpcalc.get_layer(p, T, Td, height=height, depth=3 * units.km)\n",
    "print(p)"
   ]
  },
  {
   "cell_type": "code",
   "execution_count": 37,
   "metadata": {
    "ExecuteTime": {
     "end_time": "2024-02-10T09:39:21.466872200Z",
     "start_time": "2024-02-10T09:39:21.420692400Z"
    }
   },
   "outputs": [
    {
     "name": "stdout",
     "output_type": "stream",
     "text": [
      "(<Quantity(14.755783, 'joule / kilogram')>, <Quantity(0, 'joule / kilogram')>)\n"
     ]
    }
   ],
   "source": [
    "print(mpcalc.surface_based_cape_cin(p, T, Td))"
   ]
  }
 ],
 "metadata": {
  "kernelspec": {
   "display_name": "Python 3.9.12 ('base')",
   "language": "python",
   "name": "python3"
  },
  "language_info": {
   "codemirror_mode": {
    "name": "ipython",
    "version": 3
   },
   "file_extension": ".py",
   "mimetype": "text/x-python",
   "name": "python",
   "nbconvert_exporter": "python",
   "pygments_lexer": "ipython3",
   "version": "3.9.12"
  },
  "orig_nbformat": 4,
  "vscode": {
   "interpreter": {
    "hash": "b5cfa023891fceef02537f80a4c6e95b77988fb973cdb16a51cdb785092210be"
   }
  }
 },
 "nbformat": 4,
 "nbformat_minor": 2
}
