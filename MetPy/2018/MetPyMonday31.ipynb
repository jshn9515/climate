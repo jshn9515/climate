{
 "cells": [
  {
   "cell_type": "markdown",
   "metadata": {},
   "source": [
    "## 31 - Radar Animations\n",
    "\n",
    "Watch video: [YouTube](https://www.youtube.com/watch?v=4paJWaQkUF8)"
   ]
  },
  {
   "cell_type": "code",
   "execution_count": 1,
   "metadata": {},
   "outputs": [],
   "source": [
    "import datetime\n",
    "import numpy as np\n",
    "import matplotlib.pyplot as plt\n",
    "import cartopy.crs as ccrs\n",
    "import cartopy.feature as cfeature\n",
    "from metpy.plots import ctables\n",
    "from siphon.cdmr import Dataset\n",
    "from siphon.catalog import TDSCatalog\n",
    "from siphon.radarserver import RadarServer\n",
    "%matplotlib inline\n",
    "%config InlineBackend.figure_format = 'svg'"
   ]
  },
  {
   "cell_type": "code",
   "execution_count": 2,
   "metadata": {},
   "outputs": [
    {
     "data": {
      "text/plain": [
       "var=N0C&time_start=2024-03-25T02%3A11%3A42.158050&time_end=2024-03-25T03%3A11%3A42.158050&stn=NQA"
      ]
     },
     "execution_count": 2,
     "metadata": {},
     "output_type": "execute_result"
    }
   ],
   "source": [
    "cat = TDSCatalog('http://thredds.ucar.edu/thredds/radarServer/catalog.xml')\n",
    "url = cat.catalog_refs['NEXRAD Level III Radar from IDD'].href\n",
    "rs = RadarServer(url)\n",
    "start = datetime.datetime.utcnow() - datetime.timedelta(hours=1)\n",
    "end = datetime.datetime.utcnow()\n",
    "query = rs.query()\n",
    "query.stations('NQA')\n",
    "query.time_range(start, end)\n",
    "query.variables('N0C')"
   ]
  },
  {
   "cell_type": "code",
   "execution_count": 3,
   "metadata": {},
   "outputs": [
    {
     "data": {
      "text/plain": [
       "['Level3_NQA_N0C_20240325_0214.nids',\n",
       " 'Level3_NQA_N0C_20240325_0217.nids',\n",
       " 'Level3_NQA_N0C_20240325_0222.nids',\n",
       " 'Level3_NQA_N0C_20240325_0226.nids',\n",
       " 'Level3_NQA_N0C_20240325_0231.nids',\n",
       " 'Level3_NQA_N0C_20240325_0235.nids',\n",
       " 'Level3_NQA_N0C_20240325_0238.nids',\n",
       " 'Level3_NQA_N0C_20240325_0241.nids',\n",
       " 'Level3_NQA_N0C_20240325_0245.nids',\n",
       " 'Level3_NQA_N0C_20240325_0248.nids',\n",
       " 'Level3_NQA_N0C_20240325_0252.nids',\n",
       " 'Level3_NQA_N0C_20240325_0255.nids',\n",
       " 'Level3_NQA_N0C_20240325_0258.nids',\n",
       " 'Level3_NQA_N0C_20240325_0301.nids',\n",
       " 'Level3_NQA_N0C_20240325_0304.nids',\n",
       " 'Level3_NQA_N0C_20240325_0307.nids']"
      ]
     },
     "execution_count": 3,
     "metadata": {},
     "output_type": "execute_result"
    }
   ],
   "source": [
    "query_cat = rs.get_catalog(query)\n",
    "sorted(list(query_cat.datasets))"
   ]
  },
  {
   "cell_type": "code",
   "execution_count": 4,
   "metadata": {},
   "outputs": [],
   "source": [
    "def plot_radar(data, field_name: str):\n",
    " rng = data.variables['gate'][:]\n",
    " az = data.variables['azimuth'][:]\n",
    " ref = data.variables[field_name][:]\n",
    " distance_in_degrees = 3\n",
    " ax.set_extent([data.RadarLongitude - distance_in_degrees, data.RadarLongitude + distance_in_degrees, data.RadarLatitude - distance_in_degrees, data.RadarLatitude + distance_in_degrees])\n",
    " x = rng * np.sin(np.deg2rad(az))[:, np.newaxis]\n",
    " y = rng * np.cos(np.deg2rad(az))[:, np.newaxis]\n",
    " norm, cmap = ctables.registry.get_with_range('Carbone42', 0, 1)\n",
    " mesh = ax.contour(x, y, ref, norm=norm, cmap=cmap, zorder=0)\n",
    " return mesh"
   ]
  },
  {
   "cell_type": "code",
   "execution_count": 5,
   "metadata": {},
   "outputs": [
    {
     "data": {
      "text/plain": [
       "['elevation',\n",
       " 'azimuth',\n",
       " 'gate',\n",
       " 'latitude',\n",
       " 'longitude',\n",
       " 'altitude',\n",
       " 'rays_time',\n",
       " 'CorrelationCoefficient_RAW',\n",
       " 'CorrelationCoefficient']"
      ]
     },
     "execution_count": 5,
     "metadata": {},
     "output_type": "execute_result"
    }
   ],
   "source": [
    "field_name = 'CorrelationCoefficient'\n",
    "base_file = query_cat.datasets[0].remote_access()\n",
    "list(base_file.variables)"
   ]
  },
  {
   "cell_type": "code",
   "execution_count": 7,
   "metadata": {},
   "outputs": [],
   "source": [
    "proj = ccrs.LambertConformal(central_longitude=base_file.RadarLongitude, central_latitude=base_file.RadarLatitude)"
   ]
  },
  {
   "cell_type": "code",
   "execution_count": null,
   "metadata": {},
   "outputs": [],
   "source": [
    "# This takes lots of time to execute...\n",
    "fig = plt.figure(figsize=(6, 8))\n",
    "ax = fig.add_subplot(projection=proj)\n",
    "artist = []\n",
    "ax.add_feature(cfeature.STATES, edgecolor='black', linewidth=1, zorder=2)\n",
    "\n",
    "for ds_name in sorted(query_cat.datasets):\n",
    "    ds = query_cat.datasets[ds_name]\n",
    "    data = Dataset(ds.access_urls['CdmRemote'])\n",
    "    field_name = [var.name for var in data.variables.values() if var.ndim >= 2 and not var.name.endswith('RAW')][0]\n",
    "    text = ax.text(0.5, 1.02, data.time_coverage_start, ha='center', transform=ax.transAxes)\n",
    "    mesh = plot_radar(data, field_name)\n",
    "    artist.append([text, mesh])"
   ]
  },
  {
   "cell_type": "code",
   "execution_count": null,
   "metadata": {},
   "outputs": [],
   "source": [
    "from matplotlib.animation import ArtistAnimation\n",
    "plt.rcParams['animation.html'] = 'jshtml'\n",
    "anim = ArtistAnimation(fig, artist, interval=100)\n",
    "anim"
   ]
  }
 ],
 "metadata": {
  "kernelspec": {
   "display_name": "Python 3 (ipykernel)",
   "language": "python",
   "name": "python3"
  },
  "language_info": {
   "codemirror_mode": {
    "name": "ipython",
    "version": 3
   },
   "file_extension": ".py",
   "mimetype": "text/x-python",
   "name": "python",
   "nbconvert_exporter": "python",
   "pygments_lexer": "ipython3",
   "version": "3.11.8"
  },
  "vscode": {
   "interpreter": {
    "hash": "b5cfa023891fceef02537f80a4c6e95b77988fb973cdb16a51cdb785092210be"
   }
  }
 },
 "nbformat": 4,
 "nbformat_minor": 4
}
