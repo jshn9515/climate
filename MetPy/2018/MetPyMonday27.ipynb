{
 "cells": [
  {
   "cell_type": "markdown",
   "metadata": {},
   "source": [
    "## 27 - Deprecation\n",
    "\n",
    "Watch video: [YouTube](https://www.youtube.com/watch?v=Hh03HWVUU_o)"
   ]
  },
  {
   "cell_type": "code",
   "execution_count": 1,
   "metadata": {},
   "outputs": [
    {
     "name": "stdout",
     "output_type": "stream",
     "text": [
      "1.6.1\n"
     ]
    }
   ],
   "source": [
    "import metpy\n",
    "print(metpy.__version__)"
   ]
  },
  {
   "cell_type": "code",
   "execution_count": 2,
   "metadata": {},
   "outputs": [],
   "source": [
    "import numpy as np\n",
    "import metpy.calc as mpcalc\n",
    "from metpy.units import units"
   ]
  },
  {
   "cell_type": "code",
   "execution_count": 3,
   "metadata": {},
   "outputs": [],
   "source": [
    "u = np.ones((10, 10)) * units.knots\n",
    "v = -2 * u\n",
    "dx = 1 * units.m\n",
    "dy = 2 * units.m"
   ]
  },
  {
   "cell_type": "code",
   "execution_count": 6,
   "metadata": {},
   "outputs": [
    {
     "data": {
      "text/html": [
       "<table><tbody><tr><th>Magnitude</th><td style='text-align:left;'><pre>[[0.0 0.0 0.0 0.0 0.0 0.0 0.0 0.0 0.0 0.0]<br> [0.0 0.0 0.0 0.0 0.0 0.0 0.0 0.0 0.0 0.0]<br> [0.0 0.0 0.0 0.0 0.0 0.0 0.0 0.0 0.0 0.0]<br> [0.0 0.0 0.0 0.0 0.0 0.0 0.0 0.0 0.0 0.0]<br> [0.0 0.0 0.0 0.0 0.0 0.0 0.0 0.0 0.0 0.0]<br> [0.0 0.0 0.0 0.0 0.0 0.0 0.0 0.0 0.0 0.0]<br> [0.0 0.0 0.0 0.0 0.0 0.0 0.0 0.0 0.0 0.0]<br> [0.0 0.0 0.0 0.0 0.0 0.0 0.0 0.0 0.0 0.0]<br> [0.0 0.0 0.0 0.0 0.0 0.0 0.0 0.0 0.0 0.0]<br> [0.0 0.0 0.0 0.0 0.0 0.0 0.0 0.0 0.0 0.0]]</pre></td></tr><tr><th>Units</th><td style='text-align:left;'>knot/meter</td></tr></tbody></table>"
      ],
      "text/latex": [
       "$\\begin{pmatrix} &  &  &  &  &  &  &  &  & \\\\ \n",
       " &  &  &  &  &  &  &  &  & \\\\ \n",
       " &  &  &  &  &  &  &  &  & \\\\ \n",
       " &  &  &  &  &  &  &  &  & \\\\ \n",
       " &  &  &  &  &  &  &  &  & \\\\ \n",
       " &  &  &  &  &  &  &  &  & \\\\ \n",
       " &  &  &  &  &  &  &  &  & \\\\ \n",
       " &  &  &  &  &  &  &  &  & \\\\ \n",
       " &  &  &  &  &  &  &  &  & \\\\ \n",
       " &  &  &  &  &  &  &  &  & \\end{pmatrix}\\ \\frac{\\mathrm{knot}}{\\mathrm{meter}}$"
      ],
      "text/plain": [
       "array([[0., 0., 0., 0., 0., 0., 0., 0., 0., 0.],\n",
       "       [0., 0., 0., 0., 0., 0., 0., 0., 0., 0.],\n",
       "       [0., 0., 0., 0., 0., 0., 0., 0., 0., 0.],\n",
       "       [0., 0., 0., 0., 0., 0., 0., 0., 0., 0.],\n",
       "       [0., 0., 0., 0., 0., 0., 0., 0., 0., 0.],\n",
       "       [0., 0., 0., 0., 0., 0., 0., 0., 0., 0.],\n",
       "       [0., 0., 0., 0., 0., 0., 0., 0., 0., 0.],\n",
       "       [0., 0., 0., 0., 0., 0., 0., 0., 0., 0.],\n",
       "       [0., 0., 0., 0., 0., 0., 0., 0., 0., 0.],\n",
       "       [0., 0., 0., 0., 0., 0., 0., 0., 0., 0.]]) <Unit('knot / meter')>"
      ]
     },
     "execution_count": 6,
     "metadata": {},
     "output_type": "execute_result"
    }
   ],
   "source": [
    "vorticity = mpcalc.vorticity(u, v, dx=dx, dy=dy)\n",
    "vorticity"
   ]
  }
 ],
 "metadata": {
  "kernelspec": {
   "display_name": "Python 3 (ipykernel)",
   "language": "python",
   "name": "python3"
  },
  "language_info": {
   "codemirror_mode": {
    "name": "ipython",
    "version": 3
   },
   "file_extension": ".py",
   "mimetype": "text/x-python",
   "name": "python",
   "nbconvert_exporter": "python",
   "pygments_lexer": "ipython3",
   "version": "3.11.8"
  },
  "vscode": {
   "interpreter": {
    "hash": "b5cfa023891fceef02537f80a4c6e95b77988fb973cdb16a51cdb785092210be"
   }
  }
 },
 "nbformat": 4,
 "nbformat_minor": 4
}
