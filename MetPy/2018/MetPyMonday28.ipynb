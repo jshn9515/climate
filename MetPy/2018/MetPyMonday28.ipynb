{
 "cells": [
  {
   "cell_type": "markdown",
   "metadata": {},
   "source": [
    "## 28 - Radar Server\n",
    "\n",
    "Watch video: [YouTube](https://www.youtube.com/watch?v=shLrzh0uLWA)"
   ]
  },
  {
   "cell_type": "code",
   "execution_count": 1,
   "metadata": {
    "ExecuteTime": {
     "end_time": "2024-01-06T07:14:56.577193900Z",
     "start_time": "2024-01-06T07:14:56.556567900Z"
    }
   },
   "outputs": [],
   "source": [
    "import datetime\n",
    "from siphon.catalog import TDSCatalog\n",
    "from siphon.radarserver import RadarServer"
   ]
  },
  {
   "cell_type": "markdown",
   "metadata": {},
   "source": [
    "> Note: `siphon` package has not received maintenance for over three years, with the latest release at March 8, 2021. Consequently, using it may lead to errors. The instances where siphon is utilized (in the MetPy Monday series) are only for demonstrative purposes. If you want to perform similar calculations, it is advisable to download the data files beforehand. The URL links may not be accurate."
   ]
  },
  {
   "cell_type": "code",
   "execution_count": 2,
   "metadata": {
    "ExecuteTime": {
     "end_time": "2024-01-06T07:12:26.346659300Z",
     "start_time": "2024-01-06T07:12:25.559526900Z"
    }
   },
   "outputs": [],
   "source": [
    "cat = TDSCatalog('https://thredds.ucar.edu/thredds/radarServer/catalog.xml')"
   ]
  },
  {
   "cell_type": "code",
   "execution_count": 3,
   "metadata": {
    "ExecuteTime": {
     "end_time": "2024-01-06T07:13:40.475974900Z",
     "start_time": "2024-01-06T07:13:40.466086200Z"
    }
   },
   "outputs": [
    {
     "data": {
      "text/plain": [
       "['NEXRAD Level II Radar for Case Study CCS039',\n",
       " 'NEXRAD Level II Radar from IDD',\n",
       " 'NEXRAD Level III Radar for Case Study CCS039',\n",
       " 'NEXRAD Level III Radar from IDD',\n",
       " 'TDWR Level III Radar from IDD']"
      ]
     },
     "execution_count": 3,
     "metadata": {},
     "output_type": "execute_result"
    }
   ],
   "source": [
    "list(cat.catalog_refs)"
   ]
  },
  {
   "cell_type": "code",
   "execution_count": 4,
   "metadata": {
    "ExecuteTime": {
     "end_time": "2024-01-06T07:14:39.208436900Z",
     "start_time": "2024-01-06T07:14:39.198545500Z"
    }
   },
   "outputs": [
    {
     "name": "stdout",
     "output_type": "stream",
     "text": [
      "https://thredds.ucar.edu/thredds/radarServer/nexrad/level3/IDD/dataset.xml\n"
     ]
    }
   ],
   "source": [
    "url = cat.catalog_refs['NEXRAD Level III Radar from IDD'].href\n",
    "print(url)"
   ]
  },
  {
   "cell_type": "code",
   "execution_count": 6,
   "metadata": {
    "ExecuteTime": {
     "end_time": "2024-01-06T07:18:39.210094500Z",
     "start_time": "2024-01-06T07:18:37.009211300Z"
    }
   },
   "outputs": [
    {
     "data": {
      "text/plain": [
       "var=N0Q&time_start=2024-03-25T02%3A05%3A14.380197&time_end=2024-03-25T03%3A05%3A14.380197&stn=FTG"
      ]
     },
     "execution_count": 6,
     "metadata": {},
     "output_type": "execute_result"
    }
   ],
   "source": [
    "rs = RadarServer(url)\n",
    "query = rs.query()\n",
    "start = datetime.datetime.utcnow() - datetime.timedelta(hours=1)\n",
    "end = datetime.datetime.utcnow()\n",
    "query.stations('FTG')\n",
    "query.time_range(start, end)\n",
    "query.variables('N0Q')\n",
    "query"
   ]
  },
  {
   "cell_type": "code",
   "execution_count": 7,
   "metadata": {
    "ExecuteTime": {
     "end_time": "2024-01-06T07:20:03.817264Z",
     "start_time": "2024-01-06T07:20:03.803500700Z"
    }
   },
   "outputs": [
    {
     "data": {
      "text/plain": [
       "[]"
      ]
     },
     "execution_count": 7,
     "metadata": {},
     "output_type": "execute_result"
    }
   ],
   "source": [
    "query_cat = rs.get_catalog(query)\n",
    "sorted(query_cat.datasets)"
   ]
  },
  {
   "cell_type": "code",
   "execution_count": 9,
   "metadata": {
    "ExecuteTime": {
     "end_time": "2024-01-06T07:21:18.595141400Z",
     "start_time": "2024-01-06T07:21:17.516608400Z"
    }
   },
   "outputs": [
    {
     "data": {
      "text/plain": [
       "['Level3_FTG_N0C_20240325_0210.nids',\n",
       " 'Level3_FTG_N0C_20240325_0215.nids',\n",
       " 'Level3_FTG_N0C_20240325_0221.nids',\n",
       " 'Level3_FTG_N0C_20240325_0227.nids',\n",
       " 'Level3_FTG_N0C_20240325_0233.nids',\n",
       " 'Level3_FTG_N0C_20240325_0239.nids',\n",
       " 'Level3_FTG_N0C_20240325_0245.nids',\n",
       " 'Level3_FTG_N0C_20240325_0251.nids',\n",
       " 'Level3_FTG_N0C_20240325_0257.nids',\n",
       " 'Level3_FTG_N0C_20240325_0303.nids',\n",
       " 'Level3_INX_N0C_20240325_0207.nids',\n",
       " 'Level3_INX_N0C_20240325_0211.nids',\n",
       " 'Level3_INX_N0C_20240325_0214.nids',\n",
       " 'Level3_INX_N0C_20240325_0218.nids',\n",
       " 'Level3_INX_N0C_20240325_0221.nids',\n",
       " 'Level3_INX_N0C_20240325_0225.nids',\n",
       " 'Level3_INX_N0C_20240325_0228.nids',\n",
       " 'Level3_INX_N0C_20240325_0232.nids',\n",
       " 'Level3_INX_N0C_20240325_0235.nids',\n",
       " 'Level3_INX_N0C_20240325_0239.nids',\n",
       " 'Level3_INX_N0C_20240325_0242.nids',\n",
       " 'Level3_INX_N0C_20240325_0246.nids',\n",
       " 'Level3_INX_N0C_20240325_0249.nids',\n",
       " 'Level3_INX_N0C_20240325_0253.nids',\n",
       " 'Level3_INX_N0C_20240325_0256.nids',\n",
       " 'Level3_INX_N0C_20240325_0259.nids',\n",
       " 'Level3_INX_N0C_20240325_0303.nids']"
      ]
     },
     "execution_count": 9,
     "metadata": {},
     "output_type": "execute_result"
    }
   ],
   "source": [
    "query.stations('FTG', 'INX')\n",
    "query.time_range(start, end)\n",
    "query.variables('N0Q', 'N0C')\n",
    "query_cat = rs.get_catalog(query)\n",
    "sorted(query_cat.datasets)"
   ]
  },
  {
   "cell_type": "code",
   "execution_count": 10,
   "metadata": {},
   "outputs": [],
   "source": [
    "product_codes = ['N0Q', 'N0C', 'N0H']\n",
    "query_catalogs = []\n",
    "for product_code in product_codes:\n",
    "    query.stations('FTG')\n",
    "    query.time_range(start, end)\n",
    "    query.variables(product_code)\n",
    "    query_cat = rs.get_catalog(query)\n",
    "    query_catalogs.append(query_cat)"
   ]
  },
  {
   "cell_type": "code",
   "execution_count": 11,
   "metadata": {},
   "outputs": [
    {
     "data": {
      "text/plain": [
       "[Radar NEXRAD Level III Radar from IDD datasets in near real time,\n",
       " Radar NEXRAD Level III Radar from IDD datasets in near real time,\n",
       " Radar NEXRAD Level III Radar from IDD datasets in near real time]"
      ]
     },
     "execution_count": 11,
     "metadata": {},
     "output_type": "execute_result"
    }
   ],
   "source": [
    "query_catalogs"
   ]
  },
  {
   "cell_type": "code",
   "execution_count": 12,
   "metadata": {
    "ExecuteTime": {
     "end_time": "2024-01-06T07:22:41.872976Z",
     "start_time": "2024-01-06T07:22:39.000565500Z"
    }
   },
   "outputs": [
    {
     "data": {
      "text/plain": [
       "{'N0Q': Radar NEXRAD Level III Radar from IDD datasets in near real time,\n",
       " 'N0C': Radar NEXRAD Level III Radar from IDD datasets in near real time,\n",
       " 'N0H': Radar NEXRAD Level III Radar from IDD datasets in near real time}"
      ]
     },
     "execution_count": 12,
     "metadata": {},
     "output_type": "execute_result"
    }
   ],
   "source": [
    "product_codes = ['N0Q', 'N0C', 'N0H']\n",
    "query_catalogs = {}\n",
    "for product_code in product_codes:\n",
    "    query.stations('FTG')\n",
    "    query.time_range(start, end)\n",
    "    query.variables(product_code)\n",
    "    query_cat = rs.get_catalog(query)\n",
    "    query_catalogs[product_code] = query_cat\n",
    "query_catalogs"
   ]
  },
  {
   "cell_type": "code",
   "execution_count": 13,
   "metadata": {},
   "outputs": [
    {
     "data": {
      "text/plain": [
       "['Level3_FTG_N0C_20240325_0210.nids',\n",
       " 'Level3_FTG_N0C_20240325_0215.nids',\n",
       " 'Level3_FTG_N0C_20240325_0221.nids',\n",
       " 'Level3_FTG_N0C_20240325_0227.nids',\n",
       " 'Level3_FTG_N0C_20240325_0233.nids',\n",
       " 'Level3_FTG_N0C_20240325_0239.nids',\n",
       " 'Level3_FTG_N0C_20240325_0245.nids',\n",
       " 'Level3_FTG_N0C_20240325_0251.nids',\n",
       " 'Level3_FTG_N0C_20240325_0257.nids',\n",
       " 'Level3_FTG_N0C_20240325_0303.nids',\n",
       " 'Level3_FTG_N0H_20240325_0210.nids',\n",
       " 'Level3_FTG_N0H_20240325_0215.nids',\n",
       " 'Level3_FTG_N0H_20240325_0221.nids',\n",
       " 'Level3_FTG_N0H_20240325_0227.nids',\n",
       " 'Level3_FTG_N0H_20240325_0233.nids',\n",
       " 'Level3_FTG_N0H_20240325_0239.nids',\n",
       " 'Level3_FTG_N0H_20240325_0245.nids',\n",
       " 'Level3_FTG_N0H_20240325_0251.nids',\n",
       " 'Level3_FTG_N0H_20240325_0257.nids',\n",
       " 'Level3_FTG_N0H_20240325_0303.nids']"
      ]
     },
     "execution_count": 13,
     "metadata": {},
     "output_type": "execute_result"
    }
   ],
   "source": [
    "sorted(query_catalogs['N0C'].datasets)"
   ]
  }
 ],
 "metadata": {
  "kernelspec": {
   "display_name": "Python 3 (ipykernel)",
   "language": "python",
   "name": "python3"
  },
  "language_info": {
   "codemirror_mode": {
    "name": "ipython",
    "version": 3
   },
   "file_extension": ".py",
   "mimetype": "text/x-python",
   "name": "python",
   "nbconvert_exporter": "python",
   "pygments_lexer": "ipython3",
   "version": "3.11.8"
  },
  "vscode": {
   "interpreter": {
    "hash": "b5cfa023891fceef02537f80a4c6e95b77988fb973cdb16a51cdb785092210be"
   }
  }
 },
 "nbformat": 4,
 "nbformat_minor": 4
}
