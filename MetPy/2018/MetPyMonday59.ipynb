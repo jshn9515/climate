{
 "cells": [
  {
   "attachments": {},
   "cell_type": "markdown",
   "metadata": {},
   "source": [
    "## 59 - Try and Except\n",
    "\n",
    "Watch video: [YouTube](https://www.youtube.com/watch?v=jMRjyU2H83U)"
   ]
  },
  {
   "cell_type": "code",
   "execution_count": 1,
   "metadata": {},
   "outputs": [],
   "source": [
    "my_data = [24, 35, 'cloudy', 23, 40, 15, 16, 28, 'sunny']"
   ]
  },
  {
   "cell_type": "code",
   "execution_count": 2,
   "metadata": {},
   "outputs": [
    {
     "ename": "TypeError",
     "evalue": "can only concatenate str (not \"int\") to str",
     "output_type": "error",
     "traceback": [
      "\u001b[1;31m---------------------------------------------------------------------------\u001b[0m",
      "\u001b[1;31mTypeError\u001b[0m                                 Traceback (most recent call last)",
      "Cell \u001b[1;32mIn[2], line 3\u001b[0m\n\u001b[0;32m      1\u001b[0m res \u001b[38;5;241m=\u001b[39m []\n\u001b[0;32m      2\u001b[0m \u001b[38;5;28;01mfor\u001b[39;00m ob \u001b[38;5;129;01min\u001b[39;00m my_data:\n\u001b[1;32m----> 3\u001b[0m \tres\u001b[38;5;241m.\u001b[39mappend(\u001b[43mob\u001b[49m\u001b[43m \u001b[49m\u001b[38;5;241;43m+\u001b[39;49m\u001b[43m \u001b[49m\u001b[38;5;241;43m2\u001b[39;49m)\n",
      "\u001b[1;31mTypeError\u001b[0m: can only concatenate str (not \"int\") to str"
     ]
    }
   ],
   "source": [
    "res = []\n",
    "for ob in my_data:\n",
    "\tres.append(ob + 2)"
   ]
  },
  {
   "cell_type": "code",
   "execution_count": 4,
   "metadata": {},
   "outputs": [
    {
     "name": "stdout",
     "output_type": "stream",
     "text": [
      "Not a valid observation: cloudy\n",
      "Not a valid observation: sunny\n"
     ]
    }
   ],
   "source": [
    "res = []\n",
    "for ob in my_data:\n",
    "\ttry:\n",
    "\t\tres.append(ob + 2)\n",
    "\texcept TypeError:\n",
    "\t\tprint(f'Not a valid observation: {ob}')"
   ]
  },
  {
   "cell_type": "code",
   "execution_count": 5,
   "metadata": {},
   "outputs": [
    {
     "data": {
      "text/plain": [
       "[26, 37, 25, 42, 17, 18, 30]"
      ]
     },
     "execution_count": 5,
     "metadata": {},
     "output_type": "execute_result"
    }
   ],
   "source": [
    "res"
   ]
  },
  {
   "cell_type": "code",
   "execution_count": 6,
   "metadata": {},
   "outputs": [],
   "source": [
    "from siphon.simplewebservice.ndbc import NDBC"
   ]
  },
  {
   "cell_type": "code",
   "execution_count": 7,
   "metadata": {},
   "outputs": [
    {
     "data": {
      "text/plain": [
       "{'txt': 'standard meteorological data',\n",
       " 'spec': 'spectral wave summaries',\n",
       " 'data_spec': 'raw spectral wave data',\n",
       " 'swdir': 'spectral wave data (alpha1)',\n",
       " 'swdir2': 'spectral wave data (alpha2)',\n",
       " 'swr1': 'spectral wave data (r1)',\n",
       " 'swr2': 'spectral wave data (r2)'}"
      ]
     },
     "execution_count": 7,
     "metadata": {},
     "output_type": "execute_result"
    }
   ],
   "source": [
    "NDBC.buoy_data_types('46259')"
   ]
  },
  {
   "cell_type": "code",
   "execution_count": 10,
   "metadata": {},
   "outputs": [
    {
     "data": {
      "text/plain": [
       "{}"
      ]
     },
     "execution_count": 10,
     "metadata": {},
     "output_type": "execute_result"
    }
   ],
   "source": [
    "NDBC.buoy_data_types('45002')"
   ]
  },
  {
   "cell_type": "code",
   "execution_count": 14,
   "metadata": {
    "scrolled": true
   },
   "outputs": [
    {
     "ename": "HTTPError",
     "evalue": "Error accessing https://www.ndbc.noaa.gov/data/realtime2/46259.supl\nServer Error (404: Not Found)",
     "output_type": "error",
     "traceback": [
      "\u001b[1;31m---------------------------------------------------------------------------\u001b[0m",
      "\u001b[1;31mHTTPError\u001b[0m                                 Traceback (most recent call last)",
      "Cell \u001b[1;32mIn[14], line 1\u001b[0m\n\u001b[1;32m----> 1\u001b[0m df \u001b[38;5;241m=\u001b[39m \u001b[43mNDBC\u001b[49m\u001b[38;5;241;43m.\u001b[39;49m\u001b[43mrealtime_observations\u001b[49m\u001b[43m(\u001b[49m\u001b[38;5;124;43m'\u001b[39;49m\u001b[38;5;124;43m46259\u001b[39;49m\u001b[38;5;124;43m'\u001b[39;49m\u001b[43m,\u001b[49m\u001b[43m \u001b[49m\u001b[38;5;124;43m'\u001b[39;49m\u001b[38;5;124;43msupl\u001b[39;49m\u001b[38;5;124;43m'\u001b[39;49m\u001b[43m)\u001b[49m\n",
      "File \u001b[1;32m~\\miniconda3\\envs\\climate\\Lib\\site-packages\\siphon\\simplewebservice\\ndbc.py:66\u001b[0m, in \u001b[0;36mNDBC.realtime_observations\u001b[1;34m(cls, buoy, data_type)\u001b[0m\n\u001b[0;32m     62\u001b[0m \u001b[38;5;28;01mif\u001b[39;00m data_type \u001b[38;5;129;01mnot\u001b[39;00m \u001b[38;5;129;01min\u001b[39;00m parsers:\n\u001b[0;32m     63\u001b[0m     \u001b[38;5;28;01mraise\u001b[39;00m \u001b[38;5;167;01mKeyError\u001b[39;00m(\u001b[38;5;124m'\u001b[39m\u001b[38;5;124mData type must be txt, drift, cwind, spec, ocean, srad, dart,\u001b[39m\u001b[38;5;124m'\u001b[39m\n\u001b[0;32m     64\u001b[0m                    \u001b[38;5;124m'\u001b[39m\u001b[38;5;124msupl, or rain for parsed realtime data.\u001b[39m\u001b[38;5;124m'\u001b[39m)\n\u001b[1;32m---> 66\u001b[0m raw_data \u001b[38;5;241m=\u001b[39m \u001b[43mendpoint\u001b[49m\u001b[38;5;241;43m.\u001b[39;49m\u001b[43mraw_buoy_data\u001b[49m\u001b[43m(\u001b[49m\u001b[43mbuoy\u001b[49m\u001b[43m,\u001b[49m\u001b[43m \u001b[49m\u001b[43mdata_type\u001b[49m\u001b[38;5;241;43m=\u001b[39;49m\u001b[43mdata_type\u001b[49m\u001b[43m)\u001b[49m\n\u001b[0;32m     67\u001b[0m \u001b[38;5;28;01mreturn\u001b[39;00m parsers[data_type](raw_data)\n",
      "File \u001b[1;32m~\\miniconda3\\envs\\climate\\Lib\\site-packages\\siphon\\simplewebservice\\ndbc.py:555\u001b[0m, in \u001b[0;36mNDBC.raw_buoy_data\u001b[1;34m(cls, buoy, data_type)\u001b[0m\n\u001b[0;32m    522\u001b[0m \u001b[38;5;250m\u001b[39m\u001b[38;5;124;03m\"\"\"Retrieve the raw buoy data contents from NDBC.\u001b[39;00m\n\u001b[0;32m    523\u001b[0m \n\u001b[0;32m    524\u001b[0m \u001b[38;5;124;03mParameters\u001b[39;00m\n\u001b[1;32m   (...)\u001b[0m\n\u001b[0;32m    552\u001b[0m \n\u001b[0;32m    553\u001b[0m \u001b[38;5;124;03m\"\"\"\u001b[39;00m\n\u001b[0;32m    554\u001b[0m endpoint \u001b[38;5;241m=\u001b[39m \u001b[38;5;28mcls\u001b[39m()\n\u001b[1;32m--> 555\u001b[0m resp \u001b[38;5;241m=\u001b[39m \u001b[43mendpoint\u001b[49m\u001b[38;5;241;43m.\u001b[39;49m\u001b[43mget_path\u001b[49m\u001b[43m(\u001b[49m\u001b[38;5;124;43m'\u001b[39;49m\u001b[38;5;124;43mdata/realtime2/\u001b[39;49m\u001b[38;5;132;43;01m{}\u001b[39;49;00m\u001b[38;5;124;43m.\u001b[39;49m\u001b[38;5;132;43;01m{}\u001b[39;49;00m\u001b[38;5;124;43m'\u001b[39;49m\u001b[38;5;241;43m.\u001b[39;49m\u001b[43mformat\u001b[49m\u001b[43m(\u001b[49m\u001b[43mbuoy\u001b[49m\u001b[43m,\u001b[49m\u001b[43m \u001b[49m\u001b[43mdata_type\u001b[49m\u001b[43m)\u001b[49m\u001b[43m)\u001b[49m\n\u001b[0;32m    556\u001b[0m \u001b[38;5;28;01mreturn\u001b[39;00m resp\u001b[38;5;241m.\u001b[39mtext\n",
      "File \u001b[1;32m~\\miniconda3\\envs\\climate\\Lib\\site-packages\\siphon\\http_util.py:457\u001b[0m, in \u001b[0;36mHTTPEndPoint.get_path\u001b[1;34m(self, path, query)\u001b[0m\n\u001b[0;32m    434\u001b[0m \u001b[38;5;28;01mdef\u001b[39;00m \u001b[38;5;21mget_path\u001b[39m(\u001b[38;5;28mself\u001b[39m, path, query\u001b[38;5;241m=\u001b[39m\u001b[38;5;28;01mNone\u001b[39;00m):\n\u001b[0;32m    435\u001b[0m \u001b[38;5;250m    \u001b[39m\u001b[38;5;124;03m\"\"\"Make a GET request, optionally including a query, to a relative path.\u001b[39;00m\n\u001b[0;32m    436\u001b[0m \n\u001b[0;32m    437\u001b[0m \u001b[38;5;124;03m    The path of the request includes a path on top of the base URL\u001b[39;00m\n\u001b[1;32m   (...)\u001b[0m\n\u001b[0;32m    455\u001b[0m \n\u001b[0;32m    456\u001b[0m \u001b[38;5;124;03m    \"\"\"\u001b[39;00m\n\u001b[1;32m--> 457\u001b[0m     \u001b[38;5;28;01mreturn\u001b[39;00m \u001b[38;5;28;43mself\u001b[39;49m\u001b[38;5;241;43m.\u001b[39;49m\u001b[43mget\u001b[49m\u001b[43m(\u001b[49m\u001b[38;5;28;43mself\u001b[39;49m\u001b[38;5;241;43m.\u001b[39;49m\u001b[43murl_path\u001b[49m\u001b[43m(\u001b[49m\u001b[43mpath\u001b[49m\u001b[43m)\u001b[49m\u001b[43m,\u001b[49m\u001b[43m \u001b[49m\u001b[43mquery\u001b[49m\u001b[43m)\u001b[49m\n",
      "File \u001b[1;32m~\\miniconda3\\envs\\climate\\Lib\\site-packages\\siphon\\http_util.py:492\u001b[0m, in \u001b[0;36mHTTPEndPoint.get\u001b[1;34m(self, path, params)\u001b[0m\n\u001b[0;32m    490\u001b[0m     \u001b[38;5;28;01melse\u001b[39;00m:\n\u001b[0;32m    491\u001b[0m         text \u001b[38;5;241m=\u001b[39m resp\u001b[38;5;241m.\u001b[39mtext\n\u001b[1;32m--> 492\u001b[0m     \u001b[38;5;28;01mraise\u001b[39;00m requests\u001b[38;5;241m.\u001b[39mHTTPError(\u001b[38;5;124m'\u001b[39m\u001b[38;5;124mError accessing \u001b[39m\u001b[38;5;132;01m{0}\u001b[39;00m\u001b[38;5;130;01m\\n\u001b[39;00m\u001b[38;5;124m'\u001b[39m\n\u001b[0;32m    493\u001b[0m                              \u001b[38;5;124m'\u001b[39m\u001b[38;5;124mServer Error (\u001b[39m\u001b[38;5;132;01m{1:d}\u001b[39;00m\u001b[38;5;124m: \u001b[39m\u001b[38;5;132;01m{2}\u001b[39;00m\u001b[38;5;124m)\u001b[39m\u001b[38;5;124m'\u001b[39m\u001b[38;5;241m.\u001b[39mformat(resp\u001b[38;5;241m.\u001b[39mrequest\u001b[38;5;241m.\u001b[39murl,\n\u001b[0;32m    494\u001b[0m                                                                 resp\u001b[38;5;241m.\u001b[39mstatus_code,\n\u001b[0;32m    495\u001b[0m                                                                 text))\n\u001b[0;32m    496\u001b[0m \u001b[38;5;28;01mreturn\u001b[39;00m resp\n",
      "\u001b[1;31mHTTPError\u001b[0m: Error accessing https://www.ndbc.noaa.gov/data/realtime2/46259.supl\nServer Error (404: Not Found)"
     ]
    }
   ],
   "source": [
    "df = NDBC.realtime_observations('46259', 'supl')"
   ]
  },
  {
   "cell_type": "markdown",
   "metadata": {},
   "source": [
    "There is a significant speed increase when performing certain tasks by using a try-catch statement because there is no need to iterate through all data types; instead, just attempt to retrieve the data and handle other issues through error processing."
   ]
  },
  {
   "cell_type": "code",
   "execution_count": 11,
   "metadata": {},
   "outputs": [],
   "source": [
    "buoys = ['46259', '45002']"
   ]
  },
  {
   "cell_type": "code",
   "execution_count": 12,
   "metadata": {},
   "outputs": [
    {
     "name": "stdout",
     "output_type": "stream",
     "text": [
      "No supl data for buoy 46259\n",
      "No supl data for buoy 45002\n",
      "CPU times: total: 9.75 s\n",
      "Wall time: 30.4 s\n"
     ]
    }
   ],
   "source": [
    "%%time\n",
    "for buoy in buoys:\n",
    "\tdata_types = NDBC.buoy_data_types(buoy)\n",
    "\tif 'supl' in data_types.keys():\n",
    "\t\tprint(f'Doing supplementary analysis on buoy {buoy}')\n",
    "\t\tdf = NDBC.realtime_observations(buoy, 'supl')\n",
    "\telse:\n",
    "\t\tprint(f'No supl data for buoy {buoy}')"
   ]
  },
  {
   "cell_type": "code",
   "execution_count": 13,
   "metadata": {},
   "outputs": [
    {
     "name": "stdout",
     "output_type": "stream",
     "text": [
      "No supl data for buoy 46259\n",
      "No supl data for buoy 45002\n",
      "CPU times: total: 609 ms\n",
      "Wall time: 2.08 s\n"
     ]
    }
   ],
   "source": [
    "%%time\n",
    "import requests\n",
    "for buoy in buoys:\n",
    "\ttry:\n",
    "\t\tdf = NDBC.realtime_observations(buoy, 'supl')\n",
    "\t\tprint(f'Doing supplementary analysis on buoy {buoy}')\n",
    "\texcept requests.HTTPError:\n",
    "\t\tprint(f'No supl data for buoy {buoy}')"
   ]
  }
 ],
 "metadata": {
  "kernelspec": {
   "display_name": "Python 3 (ipykernel)",
   "language": "python",
   "name": "python3"
  },
  "language_info": {
   "codemirror_mode": {
    "name": "ipython",
    "version": 3
   },
   "file_extension": ".py",
   "mimetype": "text/x-python",
   "name": "python",
   "nbconvert_exporter": "python",
   "pygments_lexer": "ipython3",
   "version": "3.11.8"
  },
  "vscode": {
   "interpreter": {
    "hash": "b5cfa023891fceef02537f80a4c6e95b77988fb973cdb16a51cdb785092210be"
   }
  }
 },
 "nbformat": 4,
 "nbformat_minor": 4
}
